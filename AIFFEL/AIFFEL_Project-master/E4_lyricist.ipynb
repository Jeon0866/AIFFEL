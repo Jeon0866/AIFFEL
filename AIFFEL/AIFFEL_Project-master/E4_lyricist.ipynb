{
 "cells": [
  {
   "cell_type": "markdown",
   "id": "medium-magnet",
   "metadata": {},
   "source": [
    "# 작사가 만들기\n",
    "---"
   ]
  },
  {
   "cell_type": "markdown",
   "id": "great-lawsuit",
   "metadata": {},
   "source": [
    "# 0. 환경"
   ]
  },
  {
   "cell_type": "markdown",
   "id": "billion-labor",
   "metadata": {},
   "source": [
    "* Ubuntu 18.04\n",
    "* TensorFlow 2.4.1\n",
    "* scikit learn 0.23.0\n",
    "* numpy 1.19.5\n",
    "* Keras 2.4.3\n",
    "* conda 4.10.1"
   ]
  },
  {
   "cell_type": "markdown",
   "id": "honey-charity",
   "metadata": {},
   "source": [
    "# 1. 데이터 다운로드"
   ]
  },
  {
   "cell_type": "markdown",
   "id": "empirical-rouge",
   "metadata": {},
   "source": [
    "* shell 환경에 다운 받아져 있는 데이터 불러오기\n",
    " * mkdir -p ~/aiffel/lyricist/models\n",
    " * ln -s ~/data ~/aiffel/lyricist/data"
   ]
  },
  {
   "cell_type": "markdown",
   "id": "christian-dimension",
   "metadata": {},
   "source": [
    "# 2. 데이터 읽어오기"
   ]
  },
  {
   "cell_type": "code",
   "execution_count": 1,
   "id": "endless-investor",
   "metadata": {},
   "outputs": [],
   "source": [
    "import glob\n",
    "import os\n",
    "import re\n",
    "import numpy as np\n",
    "import tensorflow as tf\n",
    "from keras.layers import Bidirectional, LSTM, GRU, Dense, Embedding\n",
    "from keras.layers import Dropout\n",
    "from sklearn.model_selection import train_test_split\n",
    "import matplotlib.pyplot as plt\n",
    "%matplotlib inline "
   ]
  },
  {
   "cell_type": "markdown",
   "id": "conventional-teaching",
   "metadata": {},
   "source": [
    "* splitlines() = 여러개의 줄로 이루어진 문자열을 한 줄씩 구분하여 리스트 생성, "
   ]
  },
  {
   "cell_type": "code",
   "execution_count": 2,
   "id": "rural-service",
   "metadata": {},
   "outputs": [
    {
     "name": "stdout",
     "output_type": "stream",
     "text": [
      "데이터 크기: 187088\n",
      "Examples:\n",
      " ['At first I was afraid', 'I was petrified', 'I kept thinking I could never live without you']\n"
     ]
    }
   ],
   "source": [
    "txt_file_path = os.getenv('HOME')+'/aiffel/lyricist/data/lyrics/*'\n",
    "\n",
    "txt_list = glob.glob(txt_file_path)\n",
    "\n",
    "raw_corpus = []\n",
    "\n",
    "# 여러개의 txt 파일을 모두 읽어서 raw_corpus 에 담습니다.\n",
    "for txt_file in txt_list:\n",
    "    with open(txt_file, \"r\") as f:\n",
    "        raw = f.read().splitlines()\n",
    "\n",
    "print(\"데이터 크기:\", len(raw_corpus))\n",
    "print(\"Examples:\\n\", raw_corpus[:3])"
   ]
  },
  {
   "cell_type": "markdown",
   "id": "parallel-arrest",
   "metadata": {},
   "source": [
    "# 3. 데이터 정제"
   ]
  },
  {
   "cell_type": "code",
   "execution_count": 3,
   "id": "entertaining-madagascar",
   "metadata": {},
   "outputs": [
    {
     "name": "stdout",
     "output_type": "stream",
     "text": [
      "At first I was afraid\n",
      "I was petrified\n",
      "I kept thinking I could never live without you\n",
      "By my side But then I spent so many nights\n",
      "Just thinking how you've done me wrong\n",
      "I grew strong\n",
      "I learned how to get along And so you're back\n",
      "From outer space\n",
      "I just walked in to find you\n",
      "Here without that look upon your face I should have changed that fucking lock\n",
      "I would have made you leave your key\n",
      "If I had known for just one second\n",
      "You'd be back to bother me Well now go,\n",
      "Walk out the door\n",
      "Just turn around\n",
      "Now, you're not welcome anymore Weren't you the one\n"
     ]
    }
   ],
   "source": [
    "for idx, sentence in enumerate(raw_corpus):\n",
    "    if len(sentence) == 0: continue   # 길이가 0인 문장은 건너뜁니다.\n",
    "    if sentence[-1] == \":\": continue  # 문장의 끝이 : 인 문장은 건너뜁니다.\n",
    "\n",
    "    if idx > 15: break   # 문장 확인 \n",
    "        \n",
    "    print(sentence)"
   ]
  },
  {
   "cell_type": "markdown",
   "id": "pleased-toolbox",
   "metadata": {},
   "source": [
    "# 3-1. 정규표현식(Regex)을 통한 처리"
   ]
  },
  {
   "cell_type": "code",
   "execution_count": 4,
   "id": "hourly-camcorder",
   "metadata": {},
   "outputs": [
    {
     "name": "stdout",
     "output_type": "stream",
     "text": [
      "<start> this is sample sentence . <end>\n"
     ]
    }
   ],
   "source": [
    "def preprocess_sentence(sentence):\n",
    "    sentence = sentence.lower().strip() \n",
    "    sentence = re.sub(r\"([?.!,¿])\", r\" \\1 \", sentence) \n",
    "    sentence = re.sub(r'[\" \"]+', \" \", sentence) \n",
    "    sentence = re.sub(r\"[^a-zA-Z?.!,¿]+\", \" \", sentence) \n",
    "    sentence = sentence.strip() \n",
    "    sentence = '<start> ' + sentence + ' <end>' \n",
    "    return sentence\n",
    "\n",
    "# 이 문장이 어떻게 필터링되는지 확인해 보세요.\n",
    "print(preprocess_sentence(\"This @_is ;;;sample        sentence.\"))"
   ]
  },
  {
   "cell_type": "code",
   "execution_count": 5,
   "id": "green-cancer",
   "metadata": {},
   "outputs": [
    {
     "data": {
      "text/plain": [
       "['<start> at first i was afraid <end>',\n",
       " '<start> i was petrified <end>',\n",
       " '<start> i kept thinking i could never live without you <end>',\n",
       " '<start> by my side but then i spent so many nights <end>',\n",
       " '<start> just thinking how you ve done me wrong <end>',\n",
       " '<start> i grew strong <end>',\n",
       " '<start> i learned how to get along and so you re back <end>',\n",
       " '<start> from outer space <end>',\n",
       " '<start> i just walked in to find you <end>',\n",
       " '<start> here without that look upon your face i should have changed that fucking lock <end>']"
      ]
     },
     "execution_count": 5,
     "metadata": {},
     "output_type": "execute_result"
    }
   ],
   "source": [
    "# 여기에 정제된 문장을 모을겁니다\n",
    "corpus = []\n",
    "\n",
    "for sentence in raw_corpus:\n",
    "    # 우리가 원하지 않는 문장은 건너뜁니다\n",
    "    if len(sentence) == 0: continue\n",
    "    if sentence[-1] == \":\": continue\n",
    "    \n",
    "    # 정제를 하고 담아주세요\n",
    "    preprocessed_sentence = preprocess_sentence(sentence)\n",
    "    corpus.append(preprocessed_sentence)\n",
    "        \n",
    "# 정제된 결과를 10개만 확인해보죠\n",
    "corpus[:10]"
   ]
  },
  {
   "cell_type": "markdown",
   "id": "recent-street",
   "metadata": {},
   "source": [
    "# 4. Tokenize"
   ]
  },
  {
   "cell_type": "markdown",
   "id": "pressed-hughes",
   "metadata": {},
   "source": [
    "* maxlen = 15 : 최대 길이를 15까지로 맞춤(0~14개의 index)\n",
    "* truncating = 'post' : 시퀀스의 끝 부분 자름(maxlen과 같이 쓸 수 있음.)\n",
    " * truncating은 pre로 할 경우 시퀀스의 시작 부분을 자름"
   ]
  },
  {
   "cell_type": "code",
   "execution_count": 6,
   "id": "impossible-cotton",
   "metadata": {},
   "outputs": [
    {
     "name": "stdout",
     "output_type": "stream",
     "text": [
      "[[   2   71  241 ...    0    0    0]\n",
      " [   2    5   57 ...    0    0    0]\n",
      " [   2    5 1094 ...    0    0    0]\n",
      " ...\n",
      " [   2   48   16 ...    0    0    0]\n",
      " [   2    5   22 ...   32   15   43]\n",
      " [   2    6  180 ...    0    0    0]] <keras_preprocessing.text.Tokenizer object at 0x7fa1ad49ce90>\n"
     ]
    }
   ],
   "source": [
    "# 토큰화 할 때 텐서플로우의 Tokenizer와 pad_sequences를 사용합니다\n",
    "# 더 잘 알기 위해 아래 문서들을 참고하면 좋습니다\n",
    "def tokenize(corpus):\n",
    "    # 문장을 정제하려면 filters를 사용. 그러나 앞에 정제화를 했기때문에 필요없음\n",
    "    tokenizer = tf.keras.preprocessing.text.Tokenizer(\n",
    "        num_words=12000,  # 가장 빈도가 높은 num_word개의 단어만 선택\n",
    "        filters=' ',       \n",
    "        oov_token=\"<unk>\" # word_index에 추가, text_to_sequence 호출 중에 어휘 외의 단어를 대체하는 데 사용\n",
    "    )\n",
    "    \n",
    "    # 1. corpus를 이용해 tokenizer 내부의 단어장을 완성합니다.(단어 인덱스 구축)\n",
    "    # 2. 준비한 tokenizer를 이용해 corpus를 Tensor로 변환합니다\n",
    "    # 3. 입력 데이터의 시퀀스 길이를 일정하게 맞춰줍니다\n",
    "    # 3. 만약 시퀀스가 짧다면 문장 뒤에 패딩을 붙여 길이를 맞춰줍니다.\n",
    "    # 3. 문장 앞에 패딩을 붙여 길이를 맞추고 싶다면 padding='pre'를 사용합니다.\n",
    "    # 3. maxlen=None은 모든 시퀀스의 최대 길이. 제공하지 않으면 시퀀스가 가장 긴 개별 시퀀스의 길이로 채워짐\n",
    "    tokenizer.fit_on_texts(corpus)                                                            # 1\n",
    "    tensor = tokenizer.texts_to_sequences(corpus)                                             # 2   \n",
    "    tensor = tf.keras.preprocessing.sequence.pad_sequences(tensor, \n",
    "                                                           maxlen=15, \n",
    "                                                           padding='post',\n",
    "                                                           truncating='post')                 # 3\n",
    "                                                             \n",
    "    \n",
    "    print(tensor,tokenizer)\n",
    "    return tensor, tokenizer\n",
    "\n",
    "tensor, tokenizer = tokenize(corpus) "
   ]
  },
  {
   "cell_type": "code",
   "execution_count": 7,
   "id": "incoming-champion",
   "metadata": {},
   "outputs": [
    {
     "name": "stdout",
     "output_type": "stream",
     "text": [
      "1 : <unk>\n",
      "2 : <start>\n",
      "3 : <end>\n",
      "4 : ,\n",
      "5 : i\n",
      "6 : the\n",
      "7 : you\n",
      "8 : and\n",
      "9 : a\n",
      "10 : to\n"
     ]
    }
   ],
   "source": [
    "# 데이터 확인\n",
    "\n",
    "for idx in tokenizer.index_word:\n",
    "    print(idx, \":\", tokenizer.index_word[idx])\n",
    "\n",
    "    if idx >= 10: break"
   ]
  },
  {
   "cell_type": "code",
   "execution_count": 8,
   "id": "adolescent-skating",
   "metadata": {},
   "outputs": [
    {
     "name": "stdout",
     "output_type": "stream",
     "text": [
      "[  2  71 241   5  57 664   3   0   0   0   0   0   0   0]\n",
      "[ 71 241   5  57 664   3   0   0   0   0   0   0   0   0]\n"
     ]
    }
   ],
   "source": [
    "# tensor에서 마지막 토큰을 잘라내서 소스 문장을 생성합니다\n",
    "# 마지막 토큰은 <end>가 아니라 <pad>일 가능성이 높습니다.\n",
    "src_input = tensor[:, :-1]  \n",
    "# tensor에서 <start>를 잘라내서 타겟 문장을 생성합니다.\n",
    "tgt_input = tensor[:, 1:]    \n",
    "\n",
    "print(src_input[0])\n",
    "print(tgt_input[0])"
   ]
  },
  {
   "cell_type": "markdown",
   "id": "incomplete-heating",
   "metadata": {},
   "source": [
    "# 6-1. 데이터셋 분리(train_test_split)"
   ]
  },
  {
   "cell_type": "markdown",
   "id": "generic-simon",
   "metadata": {},
   "source": [
    "* 데이터셋을 두가지 방법으로 나누는 방법을 생각했었음.\n",
    "  \n",
    "  전부 사용을 해봤으며 2번으로 정리. \n",
    "\n",
    "1. tf.data.datasets에서 take와 skip\n",
    "2. sklearn.model_selection의 train_test_split"
   ]
  },
  {
   "cell_type": "code",
   "execution_count": 11,
   "id": "basic-oracle",
   "metadata": {},
   "outputs": [],
   "source": [
    "# train_dataset = dataset.take(124960)    # 데이터셋의 124960개 이후 나머지\n",
    "# test_dataset = dataset.skip(124960)     # 데이터셋의 처음 124960개\n",
    "# print(train_dataset)\n",
    "# print(test_dataset)"
   ]
  },
  {
   "cell_type": "code",
   "execution_count": 12,
   "id": "wrong-screen",
   "metadata": {},
   "outputs": [],
   "source": [
    "# 데이터셋 분리\n",
    "enc_train, enc_val, dec_train, dec_val = \\\n",
    "train_test_split(src_input, tgt_input, test_size=0.2) # shuffle=False"
   ]
  },
  {
   "cell_type": "markdown",
   "id": "mysterious-farmer",
   "metadata": {},
   "source": [
    "# 6-2. 데이터셋 분리(tf.data.dataset)"
   ]
  },
  {
   "cell_type": "code",
   "execution_count": 9,
   "id": "transsexual-trouble",
   "metadata": {},
   "outputs": [],
   "source": [
    "# 준비한 데이터 소스로부터 데이터셋을 만듭니다\n",
    "# 데이터셋에 대해서는 아래 문서를 참고하세요\n",
    "# 자세히 알아둘수록 도움이 많이 되는 중요한 문서입니다\n",
    "# https://www.tensorflow.org/api_docs/python/tf/data/Dataset\n",
    "\n",
    "# dataset = tf.data.Dataset.from_tensor_slices((src_input, tgt_input))\n",
    "# print('# 1 :', dataset)\n",
    "# dataset = dataset.shuffle(BUFFER_SIZE)\n",
    "# print('# 2 :', dataset)\n",
    "# dataset = dataset.batch(BATCH_SIZE, drop_remainder=True)\n",
    "# print('# 3 :', dataset)\n",
    "# dataset"
   ]
  },
  {
   "cell_type": "code",
   "execution_count": 10,
   "id": "connected-increase",
   "metadata": {},
   "outputs": [],
   "source": [
    "#dataset이 어떻게 생겼는지 확인\n",
    "# for element in dataset.as_numpy_iterator():\n",
    "#     print(element)"
   ]
  },
  {
   "cell_type": "markdown",
   "id": "meaningful-brunswick",
   "metadata": {},
   "source": [
    "# Hyperparameter Batch_Size"
   ]
  },
  {
   "cell_type": "markdown",
   "id": "possible-detection",
   "metadata": {},
   "source": [
    "* 전체 데이터를 batch_size 만큼 나누어서 학습시킬 때 사용"
   ]
  },
  {
   "cell_type": "code",
   "execution_count": 13,
   "id": "crazy-lebanon",
   "metadata": {},
   "outputs": [
    {
     "name": "stdout",
     "output_type": "stream",
     "text": [
      "686\n"
     ]
    }
   ],
   "source": [
    "BUFFER_SIZE = len(src_input)\n",
    "BATCH_SIZE = 256\n",
    "steps_per_epoch = len(src_input) // BATCH_SIZE \n",
    "print(steps_per_epoch)\n",
    " # tokenizer가 구축한 단어사전 내 12000개와, 여기 포함되지 않은 0:<pad>를 포함하여 12001개\n",
    "VOCAB_SIZE = tokenizer.num_words + 1   "
   ]
  },
  {
   "cell_type": "markdown",
   "id": "focal-armor",
   "metadata": {},
   "source": [
    "# 6-3. 진행결과 확인"
   ]
  },
  {
   "cell_type": "code",
   "execution_count": 14,
   "id": "organized-bruce",
   "metadata": {},
   "outputs": [
    {
     "name": "stdout",
     "output_type": "stream",
     "text": [
      "(140599, 14)\n",
      "(140599, 14)\n",
      "------------------------------\n",
      "(35150, 14)\n",
      "(35150, 14)\n"
     ]
    }
   ],
   "source": [
    "print(enc_train.shape)\n",
    "print(dec_train.shape)\n",
    "print('-'*30)\n",
    "print(enc_val.shape)\n",
    "print(dec_val.shape)"
   ]
  },
  {
   "cell_type": "markdown",
   "id": "surprised-delta",
   "metadata": {},
   "source": [
    "# 7. 인공지능 만들기"
   ]
  },
  {
   "cell_type": "markdown",
   "id": "medium-genealogy",
   "metadata": {},
   "source": [
    "* 1차 시도(loss = 2.3xx)\n",
    " * 2 LSTM, 1 Dense\n",
    "  * embeding_size = 512, hidden_size = 1024, batch_size = 512\n",
    "* 2차 시도(loss = 2.39x)\n",
    " * 2 GRU, 1 Dense\n",
    "  * embeding_size = 512, hidden_size = 1024, batch_size = 512\n",
    "* 3차 시도(loss = 2.1)\n",
    " * 2 LSTM (dropout= 0.2), 1 Dense\n",
    "  * embeding_size = 512, hidden_size = 1024, batch_size = 512\n",
    "* 4차 시도(loss = 1.8, val_loss = 1.6) \n",
    " * 2 LSTM (dropout = 0.5), 1 Dense\n",
    "  * embeding_size = 256, hidden_size = 1024, batch_size = 512\n",
    "* 5차 시도(loss = 0.012 , test_loss = 0.1946 , val_loss = 0.1908)\n",
    " * 2 Bidirectional LSTM(dropout=0.5), 1 Dense\n",
    "  * embeding_size = 256, hidden_size = 1024, batch_size = 512\n",
    "* n차 시도(loss = 0.07, test_loss = 0.25, val_loss = 0.26 )\n",
    " * 1 LSTM, 1 Bidirectional LSTM, 3 Dropout\n",
    "  * embeding_size = 256, hidden_size = 1024, batch_size = 512"
   ]
  },
  {
   "cell_type": "code",
   "execution_count": 15,
   "id": "downtown-hawaii",
   "metadata": {},
   "outputs": [],
   "source": [
    "class TextGenerator(tf.keras.Model):\n",
    "    def __init__(self, vocab_size, embedding_size, hidden_size):\n",
    "        super().__init__()\n",
    "        \n",
    "        # Embedding 층은 두 개의 매개변수를 받음.\n",
    "        self.embedding = Embedding(vocab_size, embedding_size)\n",
    "        self.dropout_1 = Dropout(0.5) \n",
    "        self.rnn_1 = LSTM(hidden_size, return_sequences=True)\n",
    "        self.dropout_2 = Dropout(0.5)\n",
    "        self.rnn_2 = Bidirectional(LSTM(hidden_size, return_sequences=True))\n",
    "        self.dropout_3 = Dropout(0.5)\n",
    "        self.linear = Dense(vocab_size)\n",
    "        \n",
    "    def call(self, x):\n",
    "        out = self.embedding(x)\n",
    "        out = self.dropout_1(out)\n",
    "        out = self.rnn_1(out)\n",
    "        out = self.dropout_2(out)\n",
    "        out = self.rnn_2(out)\n",
    "        out = self.dropout_3(out)\n",
    "        out = self.linear(out)\n",
    "        \n",
    "        return out\n",
    "    \n",
    "    \n",
    "embedding_size = 256   # 원래 256\n",
    "hidden_size = 1024     # 원래 1024\n",
    "model = TextGenerator(tokenizer.num_words + 1, embedding_size , hidden_size)"
   ]
  },
  {
   "cell_type": "markdown",
   "id": "blank-organizer",
   "metadata": {},
   "source": [
    "* optimizer = Adam 추가"
   ]
  },
  {
   "cell_type": "code",
   "execution_count": 16,
   "id": "conscious-welcome",
   "metadata": {},
   "outputs": [],
   "source": [
    "# optimizer, loss\n",
    "\n",
    "optimizer = tf.keras.optimizers.Adam()\n",
    "loss = tf.keras.losses.SparseCategoricalCrossentropy(\n",
    "    from_logits=True, # Softmax를 통해 정규화 되지 않은 네트워크의 출력\n",
    "    reduction='none'  # 범주형 교차 엔트로피 label*log(pred)의 각 요소 제공\n",
    ")"
   ]
  },
  {
   "cell_type": "code",
   "execution_count": 17,
   "id": "burning-condition",
   "metadata": {
    "scrolled": true
   },
   "outputs": [
    {
     "name": "stdout",
     "output_type": "stream",
     "text": [
      "Epoch 1/10\n",
      "3296/3296 [==============================] - 495s 148ms/step - loss: 2.4102 - val_loss: 0.7044\n",
      "Epoch 2/10\n",
      "3296/3296 [==============================] - 488s 148ms/step - loss: 0.7235 - val_loss: 0.4551\n",
      "Epoch 3/10\n",
      "3296/3296 [==============================] - 487s 148ms/step - loss: 0.4420 - val_loss: 0.3478\n",
      "Epoch 4/10\n",
      "3296/3296 [==============================] - 486s 148ms/step - loss: 0.2863 - val_loss: 0.2972\n",
      "Epoch 5/10\n",
      "3296/3296 [==============================] - 486s 148ms/step - loss: 0.1987 - val_loss: 0.2756\n",
      "Epoch 6/10\n",
      "3296/3296 [==============================] - 486s 148ms/step - loss: 0.1452 - val_loss: 0.2647\n",
      "Epoch 7/10\n",
      "3296/3296 [==============================] - 485s 147ms/step - loss: 0.1146 - val_loss: 0.2559\n",
      "Epoch 8/10\n",
      "3296/3296 [==============================] - 485s 147ms/step - loss: 0.0950 - val_loss: 0.2558\n",
      "Epoch 9/10\n",
      "3296/3296 [==============================] - 485s 147ms/step - loss: 0.0834 - val_loss: 0.2531\n",
      "Epoch 10/10\n",
      "3296/3296 [==============================] - 485s 147ms/step - loss: 0.0750 - val_loss: 0.2549\n",
      "{'loss': [1.5544320344924927, 0.6643063426017761, 0.42826753854751587, 0.2901078760623932, 0.20793737471103668, 0.15511542558670044, 0.12367558479309082, 0.10397530347108841, 0.09154573082923889, 0.0824613869190216], 'val_loss': [0.7044014930725098, 0.4551209509372711, 0.3478006422519684, 0.2971940040588379, 0.27559900283813477, 0.2647225260734558, 0.25587111711502075, 0.2557660639286041, 0.2531270682811737, 0.25493499636650085]}\n"
     ]
    }
   ],
   "source": [
    "# model.fit\n",
    "\n",
    "model.compile(loss=loss, optimizer=optimizer)\n",
    "history = model.fit(enc_train, dec_train, epochs=10, validation_split=0.25)\n",
    "print(history.history)"
   ]
  },
  {
   "cell_type": "markdown",
   "id": "interior-payday",
   "metadata": {},
   "source": [
    "# 8. 시각화(Train / Test)"
   ]
  },
  {
   "cell_type": "markdown",
   "id": "pharmaceutical-substance",
   "metadata": {},
   "source": [
    "* model.fit에서 진행된 내역을 history 변수에 담아 tf에서 제공하는 history를 통해 epoch당 loss로 시각화\n",
    "* 10 epoch에서 약간의 loss 상승"
   ]
  },
  {
   "cell_type": "code",
   "execution_count": 18,
   "id": "presidential-behavior",
   "metadata": {},
   "outputs": [
    {
     "data": {
      "image/png": "[encoded data removed]",
      "text/plain": [
       "<Figure size 432x288 with 1 Axes>"
      ]
     },
     "metadata": {
      "needs_background": "light"
     },
     "output_type": "display_data"
    }
   ],
   "source": [
    "plt.plot(history.history['loss'])\n",
    "plt.plot(history.history['val_loss'])\n",
    "plt.title('Model loss')\n",
    "plt.xlabel('Epoch')\n",
    "plt.ylabel('Loss')\n",
    "plt.legend(['Train_loss', 'Test_loss'], loc='best')\n",
    "plt.show()"
   ]
  },
  {
   "cell_type": "markdown",
   "id": "smoking-external",
   "metadata": {},
   "source": [
    "# 9. 검증"
   ]
  },
  {
   "cell_type": "markdown",
   "id": "cathedral-distributor",
   "metadata": {},
   "source": [
    "* train_test_split을 통해 나눴던 validation set을 통해 검증\n",
    "* 데이터를 초기 완전 분할했던 데이터"
   ]
  },
  {
   "cell_type": "code",
   "execution_count": 19,
   "id": "union-shield",
   "metadata": {},
   "outputs": [
    {
     "name": "stdout",
     "output_type": "stream",
     "text": [
      "1099/1099 [==============================] - 50s 46ms/step - loss: 0.2617\n",
      "Val_loss: 0.2617027163505554\n"
     ]
    }
   ],
   "source": [
    "results = model.evaluate(enc_val, dec_val)\n",
    "print('Val_loss:', results)"
   ]
  },
  {
   "cell_type": "markdown",
   "id": "equivalent-scanning",
   "metadata": {},
   "source": [
    "# 10. 문장 Test"
   ]
  },
  {
   "cell_type": "code",
   "execution_count": 20,
   "id": "legislative-soundtrack",
   "metadata": {},
   "outputs": [],
   "source": [
    " def generate_text(model, tokenizer, init_sentence=\"<start>\", max_len=20):\n",
    "    # 테스트를 위해서 입력받은 init_sentence도 텐서로 변환합니다\n",
    "    test_input = tokenizer.texts_to_sequences([init_sentence])\n",
    "    test_tensor = tf.convert_to_tensor(test_input, dtype=tf.int64)\n",
    "    end_token = tokenizer.word_index[\"<end>\"]\n",
    "\n",
    "    # 단어 하나씩 예측해 문장을 만듭니다\n",
    "    #    1. 입력받은 문장의 텐서를 입력합니다\n",
    "    #    2. 예측된 값 중 가장 높은 확률인 word index를 뽑아냅니다\n",
    "    #    3. 2에서 예측된 word index를 문장 뒤에 붙입니다\n",
    "    #    4. 모델이 <end>를 예측했거나, max_len에 도달했다면 문장 생성을 마칩니다\n",
    "    while True:\n",
    "        # 1\n",
    "        predict = model(test_tensor) \n",
    "        # 2\n",
    "        predict_word = tf.argmax(tf.nn.softmax(predict, axis=-1), axis=-1)[:, -1] \n",
    "        # 3 \n",
    "        test_tensor = tf.concat([test_tensor, tf.expand_dims(predict_word, axis=0)], axis=-1)\n",
    "        # 4\n",
    "        if predict_word.numpy()[0] == end_token: break\n",
    "        if test_tensor.shape[1] >= max_len: break\n",
    "\n",
    "    generated = \"\"\n",
    "    # tokenizer를 이용해 word index를 단어로 하나씩 변환합니다 \n",
    "    for word_index in test_tensor[0].numpy():\n",
    "        generated += tokenizer.index_word[word_index] + \" \"\n",
    "\n",
    "    return generated"
   ]
  },
  {
   "cell_type": "markdown",
   "id": "consistent-caution",
   "metadata": {},
   "source": [
    "# 10-1. 다양한 문장 Test"
   ]
  },
  {
   "cell_type": "code",
   "execution_count": 38,
   "id": "developing-outline",
   "metadata": {},
   "outputs": [
    {
     "data": {
      "text/plain": [
       "'<start> love you , baby <end> '"
      ]
     },
     "execution_count": 38,
     "metadata": {},
     "output_type": "execute_result"
    }
   ],
   "source": [
    "generate_text(model, tokenizer, init_sentence=\"<start> love\", max_len=15)"
   ]
  },
  {
   "cell_type": "code",
   "execution_count": 22,
   "id": "checked-passing",
   "metadata": {},
   "outputs": [
    {
     "data": {
      "text/plain": [
       "'<start> so many , i m gonna be tough <end> '"
      ]
     },
     "execution_count": 22,
     "metadata": {},
     "output_type": "execute_result"
    }
   ],
   "source": [
    "generate_text(model, tokenizer, init_sentence=\"<start> so \", max_len=15)"
   ]
  },
  {
   "cell_type": "code",
   "execution_count": 23,
   "id": "charming-pixel",
   "metadata": {},
   "outputs": [
    {
     "data": {
      "text/plain": [
       "'<start> i love you at the corner , i m suppose , i m a '"
      ]
     },
     "execution_count": 23,
     "metadata": {},
     "output_type": "execute_result"
    }
   ],
   "source": [
    "generate_text(model, tokenizer, init_sentence=\"<start> i love \", max_len=15)"
   ]
  },
  {
   "cell_type": "code",
   "execution_count": 24,
   "id": "clean-madagascar",
   "metadata": {},
   "outputs": [
    {
     "data": {
      "text/plain": [
       "'<start> boy , i m a caesar <end> '"
      ]
     },
     "execution_count": 24,
     "metadata": {},
     "output_type": "execute_result"
    }
   ],
   "source": [
    "generate_text(model, tokenizer, init_sentence=\"<start> boy \", max_len=15)"
   ]
  },
  {
   "cell_type": "code",
   "execution_count": 46,
   "id": "northern-contractor",
   "metadata": {},
   "outputs": [
    {
     "data": {
      "text/plain": [
       "'<start> you love me <end> '"
      ]
     },
     "execution_count": 46,
     "metadata": {},
     "output_type": "execute_result"
    }
   ],
   "source": [
    "generate_text(model, tokenizer, init_sentence=\"<start> you love\", max_len=15)"
   ]
  },
  {
   "cell_type": "code",
   "execution_count": 26,
   "id": "worst-maldives",
   "metadata": {},
   "outputs": [
    {
     "data": {
      "text/plain": [
       "'<start> every one , i m so sorry <end> '"
      ]
     },
     "execution_count": 26,
     "metadata": {},
     "output_type": "execute_result"
    }
   ],
   "source": [
    "generate_text(model, tokenizer, init_sentence=\"<start> every one \", max_len=15)"
   ]
  },
  {
   "cell_type": "code",
   "execution_count": 50,
   "id": "heard-mentor",
   "metadata": {},
   "outputs": [
    {
     "data": {
      "text/plain": [
       "'<start> why i m a flirt <end> '"
      ]
     },
     "execution_count": 50,
     "metadata": {},
     "output_type": "execute_result"
    }
   ],
   "source": [
    "generate_text(model, tokenizer, init_sentence=\"<start> why\", max_len=15)"
   ]
  },
  {
   "cell_type": "code",
   "execution_count": 63,
   "id": "adjustable-drawing",
   "metadata": {},
   "outputs": [
    {
     "data": {
      "text/plain": [
       "'<start> have is that i m not taking <end> '"
      ]
     },
     "execution_count": 63,
     "metadata": {},
     "output_type": "execute_result"
    }
   ],
   "source": [
    "generate_text(model, tokenizer, init_sentence=\"<start> have\", max_len=15)"
   ]
  },
  {
   "cell_type": "markdown",
   "id": "brilliant-alignment",
   "metadata": {},
   "source": [
    "# 11. 정리 및 생각"
   ]
  },
  {
   "cell_type": "markdown",
   "id": "compliant-blood",
   "metadata": {},
   "source": [
    "* 새벽시간대에는 1epoch 당 20~30분씩 걸렸음.\n",
    " * 낮시간은 1epoch 당 7~8분 소요\n",
    "* LSTM의 개선된 모델이 GRU로 알고 있었고 속도적인 측면에서 GRU가 더 좋다고 생각했으나 찾아보고 경험한 결과 다음과 같은 결과를 얻었음.\n",
    " * GRU는 적은 데이터셋에서 빠른속도를 보여줌\n",
    " * LSTM은 많은 데이터에서 적합\n",
    "  * 실제로 둘은 새벽시간대 기준으로 1epoch 당 7~8분 정도의 차이를 보였음.\n",
    "  * 오전/오후시간대 기준으로 평균 3~4분 차이를 보였음\n",
    " * Bidirectional GRU와 Bidirectional LSTM 중 LSTM이 더 빠름\n",
    "* tf.dataset과 train_test_split를 잠깐 비교했을 때 연산속도 차이가 있었음.\n",
    " * batch의 길이가 확연히 차이가 있었음.\n",
    " * tf.dataset은 take와 skip을 통해 데이터를 나눌 수 있었음\n",
    "  * tf.dataset은 train_test_split처럼 나누려면 dataset에서 4개로 쪼개면 됨.(위에서는 2개로만 쪼갬)\n",
    "* vocab 사이즈에 단어가 없는 것인 경우 결과를 확인할 때 unk가 나옴."
   ]
  },
  {
   "cell_type": "code",
   "execution_count": 28,
   "id": "coral-lesbian",
   "metadata": {},
   "outputs": [
    {
     "data": {
      "text/plain": [
       "'<start> <unk> <end> '"
      ]
     },
     "execution_count": 28,
     "metadata": {},
     "output_type": "execute_result"
    }
   ],
   "source": [
    "# vocab에 단어가 없는 경우, 데이터에 없는 맞추기 힘든 단어를 테스트 하였음.\n",
    "generate_text(model, tokenizer, init_sentence=\"<start> Jeon\", max_len=15)"
   ]
  },
  {
   "cell_type": "code",
   "execution_count": 29,
   "id": "vertical-adult",
   "metadata": {},
   "outputs": [
    {
     "data": {
      "text/plain": [
       "'<start> <unk> <end> '"
      ]
     },
     "execution_count": 29,
     "metadata": {},
     "output_type": "execute_result"
    }
   ],
   "source": [
    "generate_text(model, tokenizer, init_sentence=\"<start> babuo\", max_len=15)"
   ]
  },
  {
   "cell_type": "markdown",
   "id": "stopped-trainer",
   "metadata": {},
   "source": [
    "# 11-1. 최종 정리"
   ]
  },
  {
   "cell_type": "markdown",
   "id": "diagnostic-feelings",
   "metadata": {},
   "source": [
    "* 5차 시도 결과는 4 epochs 이상에서 Overfiting 발생\n",
    " * 3 epochs, val_loss = 0.017 달성\n",
    " * 3 epochs 만으로 과연 패턴이 잘 학습되었다고 볼 수 있을까?(의문)\n",
    " * Bidirectional LSTM layer 1개와 Dense layer\n",
    "* 4차 시도의 모델이 적합.\n",
    " * 10 epochs, val_loss = 1.6 달성\n",
    " * epochs 당 loss가 일정한 속도 떨어졌으며 결과 값도 잘 나왔음. \n",
    " * 똑같은 환경으로 다시 확인했으나 생각보다 잘 나오지 못함.\n",
    " * 이상한 점은 4차시도에서는 val_loss도 잘 떨어졌지만 다시 했을 때 낮게 나오지 못함.\n",
    "* n차 시도\n",
    " * 중도 멈춘 것을 포함해서 총 30번 이상 돌렸음.(1회당 50분~1시간 소요)\n",
    " * 안정적이며 적합하다고 판단하여 제출\n",
    " * loss와 val_loss가 각각 일정하게 떨어짐\n",
    " * dropout을 3개 추가 하여 Overfiting 방지\n",
    " * 생각 외로 긴 문장을 뱉어내지는 못함."
   ]
  }
 ],
 "metadata": {
  "kernelspec": {
   "display_name": "Python 3",
   "language": "python",
   "name": "python3"
  },
  "language_info": {
   "codemirror_mode": {
    "name": "ipython",
    "version": 3
   },
   "file_extension": ".py",
   "mimetype": "text/x-python",
   "name": "python",
   "nbconvert_exporter": "python",
   "pygments_lexer": "ipython3",
   "version": "3.7.9"
  }
 },
 "nbformat": 4,
 "nbformat_minor": 5
}
