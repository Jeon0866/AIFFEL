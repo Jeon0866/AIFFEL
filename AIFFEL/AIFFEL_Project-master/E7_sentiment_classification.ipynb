{
 "cells": [
  {
   "cell_type": "markdown",
   "id": "burning-container",
   "metadata": {},
   "source": [
    "# 네이버 감정분석"
   ]
  },
  {
   "cell_type": "markdown",
   "id": "textile-watson",
   "metadata": {},
   "source": [
    "# 환경\n",
    "* Ubuntu 18.04\n",
    "* TensorFlow 2.4.1\n",
    "* scikit learn 0.23.0\n",
    "* numpy 1.19.5\n",
    "* Keras 2.4.3\n",
    "* conda 4.10.1"
   ]
  },
  {
   "cell_type": "markdown",
   "id": "tropical-mistress",
   "metadata": {},
   "source": [
    "# 루브릭 평가기준"
   ]
  },
  {
   "cell_type": "markdown",
   "id": "varying-conspiracy",
   "metadata": {},
   "source": [
    "|평가문항|상세기준|\n",
    "|------|---|\n",
    "|1. 다양한 방법으로 Text Classification task를 성공적으로 구현했다.|3가지 이상의 모델이 성공적으로 시도됨|\n",
    "|2. gensim을 활용하여 자체 학습된 혹은 사전학습된 임베딩 레이어를 분석하였다.|gensim의 유사단어 찾기를 활용하여 자체학습한 임베딩과 사전학습 임베딩을 적절히 분석함|\n",
    "|3. 한국어 Word2Vec을 활용하여 가시적인 성능향상을 달성했다.|네이버 영화리뷰 데이터 감성분석 정확도를 85% 이상 달성함|"
   ]
  },
  {
   "cell_type": "markdown",
   "id": "declared-explosion",
   "metadata": {},
   "source": [
    "# 패키지 및 라이브러리 불러오기"
   ]
  },
  {
   "cell_type": "code",
   "execution_count": 1,
   "id": "plastic-mining",
   "metadata": {},
   "outputs": [],
   "source": [
    "import glob\n",
    "import os\n",
    "import re\n",
    "import numpy as np\n",
    "import pandas as pd\n",
    "\n",
    "from collections import Counter\n",
    "\n",
    "import urllib.request\n",
    "from konlpy.tag import Okt, Mecab\n",
    "\n",
    "import tensorflow as tf\n",
    "from tensorflow import keras\n",
    "from tensorflow.keras.preprocessing.text import Tokenizer\n",
    "from tensorflow.keras.preprocessing.sequence import pad_sequences\n",
    "from tensorflow.keras.initializers import Constant\n",
    "\n",
    "from gensim.models import KeyedVectors\n",
    "import gensim\n",
    "from sklearn.model_selection import train_test_split\n",
    "\n",
    "from keras.layers import Bidirectional, LSTM, GRU, Dense, Conv1D\n",
    "from keras.layers import Embedding, MaxPooling1D, GlobalMaxPooling1D\n",
    "from keras.layers import Dropout\n",
    "from keras.callbacks import EarlyStopping\n",
    "\n",
    "import seaborn as sns\n",
    "import matplotlib.pyplot as plt\n",
    "%matplotlib inline"
   ]
  },
  {
   "cell_type": "markdown",
   "id": "unsigned-vault",
   "metadata": {},
   "source": [
    "# 1) 데이터 준비와 확인"
   ]
  },
  {
   "cell_type": "code",
   "execution_count": 2,
   "id": "incorrect-washington",
   "metadata": {},
   "outputs": [
    {
     "data": {
      "text/plain": [
       "'/aiffel/aiffel/sentiment_classification'"
      ]
     },
     "execution_count": 2,
     "metadata": {},
     "output_type": "execute_result"
    }
   ],
   "source": [
    "%pwd"
   ]
  },
  {
   "cell_type": "code",
   "execution_count": 3,
   "id": "internal-philippines",
   "metadata": {},
   "outputs": [
    {
     "data": {
      "text/html": [
       "<div>\n",
       "<style scoped>\n",
       "    .dataframe tbody tr th:only-of-type {\n",
       "        vertical-align: middle;\n",
       "    }\n",
       "\n",
       "    .dataframe tbody tr th {\n",
       "        vertical-align: top;\n",
       "    }\n",
       "\n",
       "    .dataframe thead th {\n",
       "        text-align: right;\n",
       "    }\n",
       "</style>\n",
       "<table border=\"1\" class=\"dataframe\">\n",
       "  <thead>\n",
       "    <tr style=\"text-align: right;\">\n",
       "      <th></th>\n",
       "      <th>id</th>\n",
       "      <th>document</th>\n",
       "      <th>label</th>\n",
       "    </tr>\n",
       "  </thead>\n",
       "  <tbody>\n",
       "    <tr>\n",
       "      <th>0</th>\n",
       "      <td>9976970</td>\n",
       "      <td>아 더빙.. 진짜 짜증나네요 목소리</td>\n",
       "      <td>0</td>\n",
       "    </tr>\n",
       "    <tr>\n",
       "      <th>1</th>\n",
       "      <td>3819312</td>\n",
       "      <td>흠...포스터보고 초딩영화줄....오버연기조차 가볍지 않구나</td>\n",
       "      <td>1</td>\n",
       "    </tr>\n",
       "    <tr>\n",
       "      <th>2</th>\n",
       "      <td>10265843</td>\n",
       "      <td>너무재밓었다그래서보는것을추천한다</td>\n",
       "      <td>0</td>\n",
       "    </tr>\n",
       "    <tr>\n",
       "      <th>3</th>\n",
       "      <td>9045019</td>\n",
       "      <td>교도소 이야기구먼 ..솔직히 재미는 없다..평점 조정</td>\n",
       "      <td>0</td>\n",
       "    </tr>\n",
       "    <tr>\n",
       "      <th>4</th>\n",
       "      <td>6483659</td>\n",
       "      <td>사이몬페그의 익살스런 연기가 돋보였던 영화!스파이더맨에서 늙어보이기만 했던 커스틴 ...</td>\n",
       "      <td>1</td>\n",
       "    </tr>\n",
       "  </tbody>\n",
       "</table>\n",
       "</div>"
      ],
      "text/plain": [
       "         id                                           document  label\n",
       "0   9976970                                아 더빙.. 진짜 짜증나네요 목소리      0\n",
       "1   3819312                  흠...포스터보고 초딩영화줄....오버연기조차 가볍지 않구나      1\n",
       "2  10265843                                  너무재밓었다그래서보는것을추천한다      0\n",
       "3   9045019                      교도소 이야기구먼 ..솔직히 재미는 없다..평점 조정      0\n",
       "4   6483659  사이몬페그의 익살스런 연기가 돋보였던 영화!스파이더맨에서 늙어보이기만 했던 커스틴 ...      1"
      ]
     },
     "execution_count": 3,
     "metadata": {},
     "output_type": "execute_result"
    }
   ],
   "source": [
    "train_data = pd.read_table('~/aiffel/sentiment_classification/data/ratings_train.txt')\n",
    "test_data = pd.read_table('~/aiffel/sentiment_classification/data/ratings_test.txt')\n",
    "\n",
    "train_data.head()"
   ]
  },
  {
   "cell_type": "markdown",
   "id": "signal-shore",
   "metadata": {},
   "source": [
    "# 2) 데이터로더 구성\n",
    "* 데이터의 중복 제거\n",
    "* NaN 결측치 제거\n",
    "* 한국어 토크나이저로 토큰화\n",
    "* 불용어(Stopwords) 제거\n",
    "* 사전word_to_index 구성\n",
    "* 텍스트 스트링을 사전 인덱스 스트링으로 변환\n",
    "* X_train, y_train, X_test, y_test, word_to_index 리턴"
   ]
  },
  {
   "cell_type": "code",
   "execution_count": 4,
   "id": "lucky-magazine",
   "metadata": {},
   "outputs": [],
   "source": [
    "tokenizer = Mecab()\n",
    "stopwords = ['의','가','이','은','들','는','좀','잘','걍','과','도','를','으로','자','에','와','한','하다']\n",
    "\n",
    "def load_data(train_data, test_data, num_words=10000):\n",
    "    train_data.drop_duplicates(subset=['document'], inplace=True)\n",
    "    train_data = train_data.dropna(how = 'any') \n",
    "    test_data.drop_duplicates(subset=['document'], inplace=True)\n",
    "    test_data = test_data.dropna(how = 'any') \n",
    "    \n",
    "    X_train = []\n",
    "    for sentence in train_data['document']:\n",
    "        temp_X = tokenizer.morphs(sentence) # 토큰화\n",
    "        temp_X = [word for word in temp_X if not word in stopwords] # 불용어 제거\n",
    "        X_train.append(temp_X)\n",
    "\n",
    "    X_test = []\n",
    "    for sentence in test_data['document']:\n",
    "        temp_X = tokenizer.morphs(sentence) # 토큰화\n",
    "        temp_X = [word for word in temp_X if not word in stopwords] # 불용어 제거\n",
    "        X_test.append(temp_X)\n",
    "    \n",
    "    words = np.concatenate(X_train).tolist()\n",
    "    counter = Counter(words)\n",
    "    counter = counter.most_common(10000-4)\n",
    "    vocab = ['', '', '', ''] + [key for key, _ in counter]\n",
    "    word_to_index = {word:index for index, word in enumerate(vocab)}\n",
    "        \n",
    "    def wordlist_to_indexlist(wordlist):\n",
    "        return [word_to_index[word] if word in word_to_index else word_to_index[''] for word in wordlist]\n",
    "        \n",
    "    X_train = list(map(wordlist_to_indexlist, X_train))\n",
    "    X_test = list(map(wordlist_to_indexlist, X_test))\n",
    "        \n",
    "    return X_train, np.array(list(train_data['label'])), X_test, np.array(list(test_data['label'])), word_to_index\n",
    "    \n",
    "X_train, y_train, X_test, y_test, word_to_index = load_data(train_data, test_data)"
   ]
  },
  {
   "cell_type": "code",
   "execution_count": 5,
   "id": "constant-canal",
   "metadata": {},
   "outputs": [
    {
     "name": "stdout",
     "output_type": "stream",
     "text": [
      "146182\n",
      "146182\n",
      "---------------\n",
      "49157\n",
      "49157\n",
      "----------------------------------------\n",
      "word_to_index :  9997 <class 'dict'>\n"
     ]
    }
   ],
   "source": [
    "print(len(X_train)) \n",
    "print(len(y_train)) \n",
    "print('-'*15)\n",
    "print(len(X_test))\n",
    "print(len(y_test))\n",
    "print('-'*40)\n",
    "print('word_to_index : ',len(word_to_index), type(word_to_index))"
   ]
  },
  {
   "cell_type": "code",
   "execution_count": 6,
   "id": "proof-seattle",
   "metadata": {},
   "outputs": [],
   "source": [
    "# word_to_index를 확인해보면 PAD, BOS, UNK가 생략되어 있어서\n",
    "# <PAD>, <BOS>, <UNK>를 차례대로 0, 1, 2와 같이 dictionary에 포함시킨다.\n",
    "\n",
    "word_to_index[\"<PAD>\"] = 0\n",
    "word_to_index[\"<BOS>\"] = 1\n",
    "word_to_index[\"<UNK>\"] = 2  # unknown\n",
    "\n",
    "# word_to_index"
   ]
  },
  {
   "cell_type": "code",
   "execution_count": 7,
   "id": "talented-police",
   "metadata": {},
   "outputs": [
    {
     "name": "stdout",
     "output_type": "stream",
     "text": [
      "<PAD>\n",
      "0\n",
      "------------------------------\n",
      "다\n",
      "6\n",
      "------------------------------\n",
      "영화\n",
      "5\n"
     ]
    }
   ],
   "source": [
    "# word_to_index를 index_to_word로 변환\n",
    "\n",
    "index_to_word = {index:word for word, index in word_to_index.items()}\n",
    "print(index_to_word[0])\n",
    "print(word_to_index[\"<PAD>\"])\n",
    "print('-'*30)\n",
    "print(index_to_word[6])\n",
    "print(word_to_index[\"다\"])\n",
    "print('-'*30)\n",
    "print(index_to_word[5])\n",
    "print(word_to_index[\"영화\"])"
   ]
  },
  {
   "cell_type": "markdown",
   "id": "intensive-vietnam",
   "metadata": {},
   "source": [
    "# 3) 모델 구성을 위한 데이터 분석 및 가공\n",
    "* 데이터셋 내 문장 길이 분포\n",
    "* 적절한 최대 문장 길이 지정\n",
    "* keras.preprocessing.sequence.pad_sequences 을 활용한 패딩 추가"
   ]
  },
  {
   "cell_type": "code",
   "execution_count": 8,
   "id": "tough-physiology",
   "metadata": {},
   "outputs": [
    {
     "name": "stdout",
     "output_type": "stream",
     "text": [
      "문장길이 평균: 15.96940191154864\n",
      "문장길이 최대: 116\n",
      "문장길이 표준편차: 12.843571191092\n",
      "pad_sequences maxlen :  41\n",
      "전체 문장의 0.9342988343341575 %, maxlen 설정값 이내에 포함\n"
     ]
    }
   ],
   "source": [
    "total_data_test = list(X_train) + list(X_test)\n",
    "\n",
    "num_tokens = [len(tokens) for tokens in total_data_test]\n",
    "num_tokens = np.array(num_tokens)\n",
    "\n",
    "# 문장 길이의 분포 확인\n",
    "print('문장길이 평균:', np.mean(num_tokens))\n",
    "print('문장길이 최대:', np.max(num_tokens))\n",
    "print('문장길이 표준편차:', np.std(num_tokens))\n",
    "\n",
    "max_tokens = np.mean(num_tokens) + 2 * np.std(num_tokens)\n",
    "maxlen = int(max_tokens)\n",
    "print('pad_sequences maxlen : ', maxlen)\n",
    "print('전체 문장의 {} %, maxlen 설정값 이내에 포함'.format(np.sum(num_tokens < max_tokens) / len(num_tokens)))"
   ]
  },
  {
   "cell_type": "code",
   "execution_count": 9,
   "id": "changed-surname",
   "metadata": {},
   "outputs": [
    {
     "name": "stdout",
     "output_type": "stream",
     "text": [
      "(146182, 41)\n",
      "(49157, 41)\n"
     ]
    }
   ],
   "source": [
    "# 패딩 추가\n",
    "x_train = pad_sequences(X_train,\n",
    "                        value=word_to_index[\"<PAD>\"],\n",
    "                        padding='post', # 혹은 'pre'\n",
    "                        maxlen=maxlen)\n",
    "\n",
    "x_test = pad_sequences(X_test,\n",
    "                       value=word_to_index[\"<PAD>\"],\n",
    "                       padding='post', # 혹은 'pre'\n",
    "                       maxlen=maxlen)\n",
    "\n",
    "print(x_train.shape)\n",
    "print(x_test.shape)"
   ]
  },
  {
   "cell_type": "markdown",
   "id": "structural-shanghai",
   "metadata": {},
   "source": [
    "# 4) 모델 구성 및 Validation Set 구성"
   ]
  },
  {
   "cell_type": "code",
   "execution_count": 10,
   "id": "forbidden-public",
   "metadata": {},
   "outputs": [],
   "source": [
    "vocab_size = 10000  # 어휘 사전의 크기입니다(10개의 단어)\n",
    "word_vector_dim = 256   # 단어 하나를 표현하는 임베딩 벡터의 차원 수입니다. "
   ]
  },
  {
   "cell_type": "code",
   "execution_count": 11,
   "id": "mathematical-channel",
   "metadata": {},
   "outputs": [
    {
     "data": {
      "text/plain": [
       "'\\nModel 1\\nConv1D\\n'"
      ]
     },
     "execution_count": 11,
     "metadata": {},
     "output_type": "execute_result"
    }
   ],
   "source": [
    "'''\n",
    "Model 1\n",
    "Conv1D\n",
    "'''\n",
    "# model = keras.Sequential()\n",
    "# model.add(Embedding(vocab_size, word_vector_dim, input_shape=(None,)))\n",
    "# model.add(Dropout(0.3))\n",
    "# model.add(Conv1D(256, 3, activation='relu'))\n",
    "# model.add(MaxPooling1D())\n",
    "# model.add(Dropout(0.5))\n",
    "# model.add(Dense(128, activation='relu'))\n",
    "# model.add(Dropout(0.5))\n",
    "# model.add(Dense(1, activation='sigmoid'))  # 최종 출력은 긍정/부정을 나타내는 1dim 입니다.\n",
    "\n",
    "# model.summary()"
   ]
  },
  {
   "cell_type": "code",
   "execution_count": 12,
   "id": "vertical-lottery",
   "metadata": {},
   "outputs": [
    {
     "data": {
      "text/plain": [
       "'\\nModel 2\\nBidirectional(LSTM)\\n'"
      ]
     },
     "execution_count": 12,
     "metadata": {},
     "output_type": "execute_result"
    }
   ],
   "source": [
    "'''\n",
    "Model 2\n",
    "Bidirectional(LSTM)\n",
    "'''\n",
    "# model = keras.Sequential()\n",
    "# model.add(Embedding(vocab_size, word_vector_dim, input_shape=(None,)))\n",
    "# model.add(Dropout(0.5))\n",
    "# model.add(LSTM(256, return_sequences=True))\n",
    "# model.add(Dropout(0.5))\n",
    "# model.add(Bidirectional(LSTM(256, return_sequences=True)))\n",
    "# model.add(Dropout(0.5))\n",
    "# model.add(Dense(1, activation='sigmoid'))\n",
    "          \n",
    "# model.summary()"
   ]
  },
  {
   "cell_type": "code",
   "execution_count": 13,
   "id": "vocational-desire",
   "metadata": {},
   "outputs": [
    {
     "data": {
      "text/plain": [
       "'\\nModel3\\nDense\\n'"
      ]
     },
     "execution_count": 13,
     "metadata": {},
     "output_type": "execute_result"
    }
   ],
   "source": [
    "'''\n",
    "Model3\n",
    "Dense\n",
    "'''\n",
    "# model = keras.Sequential()\n",
    "# model.add(Embedding(vocab_size, word_vector_dim, input_shape=(None,)))\n",
    "# model.add(GRU(256, activation='relu'))\n",
    "# model.add(Dropout(0.5))\n",
    "# model.add(Dense(1, activation='sigmoid'))\n",
    "\n",
    "# model.summary()"
   ]
  },
  {
   "cell_type": "code",
   "execution_count": 14,
   "id": "fifteen-granny",
   "metadata": {},
   "outputs": [
    {
     "name": "stdout",
     "output_type": "stream",
     "text": [
      "(10000, 41)\n",
      "(10000,)\n",
      "(136182, 41)\n",
      "(136182,)\n"
     ]
    }
   ],
   "source": [
    "# 데이터 다시 나누기\n",
    "# validation set 10000건 분리\n",
    "x_val = x_train[:10000]   \n",
    "y_val = y_train[:10000]\n",
    "\n",
    "# validation set을 제외한 나머지\n",
    "partial_x_train = x_train[10000:]  \n",
    "partial_y_train = y_train[10000:]\n",
    "\n",
    "print(x_val.shape)\n",
    "print(y_val.shape)\n",
    "print(partial_x_train.shape)\n",
    "print(partial_y_train.shape)"
   ]
  },
  {
   "cell_type": "markdown",
   "id": "static-supply",
   "metadata": {},
   "source": [
    "# 5) 모델 훈련 개시"
   ]
  },
  {
   "cell_type": "code",
   "execution_count": 15,
   "id": "opposed-overhead",
   "metadata": {
    "scrolled": false
   },
   "outputs": [],
   "source": [
    "# early_stopping = EarlyStopping(monitor = 'val_loss', mode = 'min', verbose = 1, patience = 3)\n",
    "\n",
    "# model.compile(optimizer='adam',\n",
    "#               loss='binary_crossentropy',\n",
    "#               metrics=['accuracy'])\n",
    "              \n",
    "# history = model.fit(partial_x_train,\n",
    "#                     partial_y_train,\n",
    "#                     epochs=15,\n",
    "#                     batch_size=128,\n",
    "#                     validation_data=(x_val, y_val),\n",
    "#                     callbacks=[early_stopping],\n",
    "#                     verbose=1)"
   ]
  },
  {
   "cell_type": "code",
   "execution_count": 16,
   "id": "express-event",
   "metadata": {
    "scrolled": true
   },
   "outputs": [],
   "source": [
    "# print(x_test.shape)\n",
    "# print(y_test.shape)\n",
    "\n",
    "# results = model.evaluate(x_test,  y_test, verbose=2)\n",
    "\n",
    "\n",
    "# print(results)"
   ]
  },
  {
   "cell_type": "markdown",
   "id": "center-intent",
   "metadata": {},
   "source": [
    "# 6) Loss, Accuracy 그래프 시각화"
   ]
  },
  {
   "cell_type": "code",
   "execution_count": 17,
   "id": "facial-forge",
   "metadata": {},
   "outputs": [],
   "source": [
    "# history_dict = history.history\n",
    "\n",
    "# acc = history_dict['accuracy']\n",
    "# val_acc = history_dict['val_accuracy']\n",
    "# loss = history_dict['loss']\n",
    "# val_loss = history_dict['val_loss']\n",
    "\n",
    "# epochs = range(1, len(acc) + 1)\n",
    "\n",
    "# # \"bo\"는 \"파란색 점\"입니다\n",
    "# plt.plot(epochs, loss, 'bo', label='Training loss')\n",
    "# # b는 \"파란 실선\"입니다\n",
    "# plt.plot(epochs, val_loss, 'b', label='Validation loss')\n",
    "# plt.title('Training and validation loss')\n",
    "# plt.xlabel('Epochs')\n",
    "# plt.ylabel('Loss')\n",
    "# plt.legend()\n",
    "\n",
    "# plt.show()"
   ]
  },
  {
   "cell_type": "code",
   "execution_count": 18,
   "id": "documentary-cherry",
   "metadata": {},
   "outputs": [],
   "source": [
    "# plt.clf()   # 그림을 초기화합니다\n",
    "\n",
    "# plt.plot(epochs, acc, 'bo', label='Training acc')\n",
    "# plt.plot(epochs, val_acc, 'b', label='Validation acc')\n",
    "# plt.title('Training and validation accuracy')\n",
    "# plt.xlabel('Epochs')\n",
    "# plt.ylabel('Accuracy')\n",
    "# plt.legend()\n",
    "\n",
    "# plt.show()"
   ]
  },
  {
   "cell_type": "markdown",
   "id": "animated-navigator",
   "metadata": {},
   "source": [
    "# 7) 학습된 Embedding 레이어 분석"
   ]
  },
  {
   "cell_type": "markdown",
   "id": "going-supervision",
   "metadata": {},
   "source": [
    "1차 시도\n",
    "* conv1d(16,7) 2개, maxpooling1d 1개, GlobalMaxpooling1d 1개, Dense(8) 1개\n",
    "* vocab_size=10000, word_vector_dim=16, epochs=20, Early_stopping(X), Dropout(X)\n",
    "* batch_size=256\n",
    "* 일정 epochs을 넘어갈 때 과적합 발생 val_accuracy: 0.83\n",
    "\n",
    "2차 시도\n",
    "* conv1d 2개(64,7), maxpooling1d 1개, GlobalMaxpooling1d 1개, Dense(64) 1개 \n",
    "* vocab_size=10000, word_vector_dim=32, epochs=20, Early_stopping(X), Dropout(O)\n",
    "* batch_size=128\n",
    "* 무리한 Dropout으로 underfiting 확인. val_accuracy: 0.7x\n",
    "\n",
    "3차 시도\n",
    "* conv1d 2개(128,7), maxpooling1d 1개, GlobalMaxpooling1d 1개, Dense(64) 1개 \n",
    "* vocab_size=10000, word_vector_dim=32, epochs=20, Early_stopping(X), Dropout(O)\n",
    "* batch_size=64\n",
    "* val_accuracy: 0.84\n",
    "\n",
    "4차 시도\n",
    "* conv1d(256, 3) 1개, GlobalMaxpooling1d 1개, Dense(128) 1개\n",
    "* vocab_size=10000, word_vector_dim=256, epochs=20, EarlyStopping(O), Dropout(0)\n",
    "* batch_size=128\n",
    "* val_loss를 확인하고 일정 이상 올라가면 EarlyStopping으로 학습종료\n",
    "* filters를 늘리고 kernel_size(=filter_size)를 3으로 줄임, stride=1(기본값)\n",
    " * cs231n에서 cnn에서 kernel_size를 줄이면 receptive field(수용영역)이 늘어나 좋은 효과를 볼 수 있다고 하여 시도하였음\n",
    "* val_accuracy:0.8588\n",
    " \n",
    "5차 시도\n",
    "* 4차 시도에서 pad_sequences만 post -> pre로 변경하여 시도\n",
    "* val_accuracy: 0.58\n",
    "* padding값이 앞에서부터 채워져 시작점이 밀리게 되어 문제 발생.\n",
    "\n",
    "6차 시도(모델 변경)\n",
    "* LSTM(256) 1개, Bidirectional(LSTM(256)) 1개 사용\n",
    "* vocab_size=10000, word_vector_dim=256, epochs=20, EarlyStopping(O), Dropout(0)\n",
    "* batch_size=128\n",
    "* val_accuracy:0.858\n",
    "* 모델을 여러번 돌려본 결과 모델을 변경해도 val_accuracy가 0.85이상을 넘기기 힘들었음을 알 수 있었음.\n",
    "\n",
    "7차 시도(모델 변경)\n",
    "* GRU(256) 2개\n",
    "* vocab_size=10000, word_vector_dim=256, epochs=20, EarlyStopping(O), Dropout(0)\n",
    "* batch_size=128\n",
    "* val_accuracy: 0.86"
   ]
  },
  {
   "cell_type": "markdown",
   "id": "swedish-subcommittee",
   "metadata": {},
   "source": [
    "# 8) 한국어 Word2Vec 임베딩 활용하여 성능개선"
   ]
  },
  {
   "cell_type": "code",
   "execution_count": 19,
   "id": "stupid-fleet",
   "metadata": {},
   "outputs": [],
   "source": [
    "word2vec_path = os.getenv('HOME')+'/aiffel/sentiment_classification/data/ko.bin'\n",
    "\n",
    "word2vec = gensim.models.Word2Vec.load(word2vec_path)"
   ]
  },
  {
   "cell_type": "code",
   "execution_count": 20,
   "id": "useful-highland",
   "metadata": {},
   "outputs": [
    {
     "name": "stderr",
     "output_type": "stream",
     "text": [
      "/opt/conda/lib/python3.7/site-packages/ipykernel_launcher.py:10: DeprecationWarning: Call to deprecated `__contains__` (Method will be removed in 4.0.0, use self.wv.__contains__() instead).\n",
      "  # Remove the CWD from sys.path while we load stuff.\n",
      "/opt/conda/lib/python3.7/site-packages/ipykernel_launcher.py:11: DeprecationWarning: Call to deprecated `__getitem__` (Method will be removed in 4.0.0, use self.wv.__getitem__() instead).\n",
      "  # This is added back by InteractiveShellApp.init_path()\n"
     ]
    }
   ],
   "source": [
    "# 이전에 학습했던 모델의 임베딩 레이어를 Word2Vec으로 교체 후 학습\n",
    "\n",
    "vocab_size = 10000    # 어휘 사전의 크기입니다(10,000개의 단어)\n",
    "word_vector_dim = 200  # 워드 벡터의 차원수 (변경가능한 하이퍼파라미터)\n",
    "\n",
    "embedding_matrix = np.random.rand(vocab_size, word_vector_dim)\n",
    "\n",
    "# embedding_matrix에 Word2Vec 워드 벡터를 단어 하나씩마다 차례차례 카피한다.\n",
    "for i in range(4,vocab_size):\n",
    "    if index_to_word[i] in word2vec:\n",
    "        embedding_matrix[i] = word2vec[index_to_word[i]]"
   ]
  },
  {
   "cell_type": "code",
   "execution_count": 21,
   "id": "needed-kingston",
   "metadata": {},
   "outputs": [
    {
     "name": "stdout",
     "output_type": "stream",
     "text": [
      "Model: \"sequential\"\n",
      "_________________________________________________________________\n",
      "Layer (type)                 Output Shape              Param #   \n",
      "=================================================================\n",
      "embedding (Embedding)        (None, 41, 200)           2000000   \n",
      "_________________________________________________________________\n",
      "dropout (Dropout)            (None, 41, 200)           0         \n",
      "_________________________________________________________________\n",
      "lstm (LSTM)                  (None, 41, 256)           467968    \n",
      "_________________________________________________________________\n",
      "dropout_1 (Dropout)          (None, 41, 256)           0         \n",
      "_________________________________________________________________\n",
      "bidirectional (Bidirectional (None, 41, 512)           1050624   \n",
      "_________________________________________________________________\n",
      "dropout_2 (Dropout)          (None, 41, 512)           0         \n",
      "_________________________________________________________________\n",
      "dense (Dense)                (None, 41, 1)             513       \n",
      "=================================================================\n",
      "Total params: 3,519,105\n",
      "Trainable params: 3,519,105\n",
      "Non-trainable params: 0\n",
      "_________________________________________________________________\n"
     ]
    }
   ],
   "source": [
    "# 모델 구성\n",
    "model = keras.Sequential()\n",
    "model.add(keras.layers.Embedding(vocab_size, \n",
    "                                 word_vector_dim, \n",
    "                                 embeddings_initializer=Constant(embedding_matrix), \n",
    "                                 input_length=maxlen, \n",
    "                                 trainable=True))   # trainable을 True로 주면 Fine-tuning\n",
    "model.add(Dropout(0.5))\n",
    "model.add(LSTM(256, return_sequences=True))\n",
    "model.add(Dropout(0.5))\n",
    "model.add(Bidirectional(LSTM(256, return_sequences=True)))\n",
    "model.add(Dropout(0.5))\n",
    "model.add(Dense(1, activation='sigmoid'))\n",
    "\n",
    "model.summary()"
   ]
  },
  {
   "cell_type": "code",
   "execution_count": 22,
   "id": "increasing-royalty",
   "metadata": {},
   "outputs": [
    {
     "name": "stdout",
     "output_type": "stream",
     "text": [
      "Epoch 1/20\n",
      "1064/1064 [==============================] - 102s 90ms/step - loss: 0.5513 - accuracy: 0.7052 - val_loss: 0.3468 - val_accuracy: 0.8462\n",
      "Epoch 2/20\n",
      "1064/1064 [==============================] - 94s 88ms/step - loss: 0.3683 - accuracy: 0.8356 - val_loss: 0.3177 - val_accuracy: 0.8624\n",
      "Epoch 3/20\n",
      "1064/1064 [==============================] - 90s 85ms/step - loss: 0.3248 - accuracy: 0.8591 - val_loss: 0.3089 - val_accuracy: 0.8687\n",
      "Epoch 4/20\n",
      "1064/1064 [==============================] - 89s 84ms/step - loss: 0.3022 - accuracy: 0.8698 - val_loss: 0.3014 - val_accuracy: 0.8727\n",
      "Epoch 5/20\n",
      "1064/1064 [==============================] - 87s 81ms/step - loss: 0.2834 - accuracy: 0.8789 - val_loss: 0.3112 - val_accuracy: 0.8707\n",
      "Epoch 6/20\n",
      "1064/1064 [==============================] - 87s 82ms/step - loss: 0.2721 - accuracy: 0.8849 - val_loss: 0.3001 - val_accuracy: 0.8736\n",
      "Epoch 7/20\n",
      "1064/1064 [==============================] - 87s 82ms/step - loss: 0.2617 - accuracy: 0.8902 - val_loss: 0.2982 - val_accuracy: 0.8741\n",
      "Epoch 8/20\n",
      "1064/1064 [==============================] - 86s 81ms/step - loss: 0.2541 - accuracy: 0.8938 - val_loss: 0.2881 - val_accuracy: 0.8795\n",
      "Epoch 9/20\n",
      "1064/1064 [==============================] - 86s 80ms/step - loss: 0.2458 - accuracy: 0.8972 - val_loss: 0.3035 - val_accuracy: 0.8790\n",
      "Epoch 10/20\n",
      "1064/1064 [==============================] - 86s 80ms/step - loss: 0.2369 - accuracy: 0.9025 - val_loss: 0.3095 - val_accuracy: 0.8773\n",
      "Epoch 11/20\n",
      "1064/1064 [==============================] - 85s 80ms/step - loss: 0.2323 - accuracy: 0.9040 - val_loss: 0.3014 - val_accuracy: 0.8813\n",
      "Epoch 12/20\n",
      "1064/1064 [==============================] - 86s 81ms/step - loss: 0.2221 - accuracy: 0.9081 - val_loss: 0.3084 - val_accuracy: 0.8794\n",
      "Epoch 13/20\n",
      "1064/1064 [==============================] - 86s 81ms/step - loss: 0.2172 - accuracy: 0.9102 - val_loss: 0.3055 - val_accuracy: 0.8805\n",
      "Epoch 14/20\n",
      "1064/1064 [==============================] - 87s 82ms/step - loss: 0.2120 - accuracy: 0.9126 - val_loss: 0.3099 - val_accuracy: 0.8812\n",
      "Epoch 15/20\n",
      "1064/1064 [==============================] - 84s 79ms/step - loss: 0.2090 - accuracy: 0.9139 - val_loss: 0.3237 - val_accuracy: 0.8795\n",
      "Epoch 16/20\n",
      "1064/1064 [==============================] - 85s 80ms/step - loss: 0.1996 - accuracy: 0.9183 - val_loss: 0.3309 - val_accuracy: 0.8800\n",
      "Epoch 17/20\n",
      "1064/1064 [==============================] - 87s 82ms/step - loss: 0.1963 - accuracy: 0.9200 - val_loss: 0.3242 - val_accuracy: 0.8813\n",
      "Epoch 18/20\n",
      "1064/1064 [==============================] - 85s 80ms/step - loss: 0.1925 - accuracy: 0.9221 - val_loss: 0.3303 - val_accuracy: 0.8817\n",
      "Epoch 19/20\n",
      "1064/1064 [==============================] - 84s 79ms/step - loss: 0.1860 - accuracy: 0.9249 - val_loss: 0.3412 - val_accuracy: 0.8797\n",
      "Epoch 20/20\n",
      "1064/1064 [==============================] - 84s 79ms/step - loss: 0.1842 - accuracy: 0.9250 - val_loss: 0.3438 - val_accuracy: 0.8812\n"
     ]
    }
   ],
   "source": [
    "# 학습의 진행\n",
    "model.compile(optimizer='adam',\n",
    "              loss='binary_crossentropy',\n",
    "              metrics=['accuracy'])\n",
    "              \n",
    "epochs=20   \n",
    "\n",
    "history = model.fit(partial_x_train,\n",
    "                    partial_y_train,\n",
    "                    epochs=epochs,\n",
    "                    batch_size=128,\n",
    "                    validation_data=(x_val, y_val),\n",
    "                    verbose=1)"
   ]
  },
  {
   "cell_type": "code",
   "execution_count": 24,
   "id": "short-exclusion",
   "metadata": {},
   "outputs": [
    {
     "name": "stdout",
     "output_type": "stream",
     "text": [
      "1537/1537 - 21s - loss: 0.3546 - accuracy: 0.8746\n",
      "[0.35464441776275635, 0.8746362924575806]\n"
     ]
    }
   ],
   "source": [
    "results = model.evaluate(x_test,  y_test, verbose=2)\n",
    "\n",
    "print(results)"
   ]
  },
  {
   "cell_type": "code",
   "execution_count": 25,
   "id": "blank-discrimination",
   "metadata": {},
   "outputs": [
    {
     "data": {
      "image/png": "[encoded data removed]",
      "text/plain": [
       "<Figure size 432x288 with 1 Axes>"
      ]
     },
     "metadata": {
      "needs_background": "light"
     },
     "output_type": "display_data"
    }
   ],
   "source": [
    "history_dict = history.history\n",
    "\n",
    "acc = history_dict['accuracy']\n",
    "val_acc = history_dict['val_accuracy']\n",
    "loss = history_dict['loss']\n",
    "val_loss = history_dict['val_loss']\n",
    "\n",
    "epochs = range(1, len(acc) + 1)\n",
    "\n",
    "# \"bo\"는 \"파란색 점\"입니다\n",
    "plt.plot(epochs, loss, 'bo', label='Training loss')\n",
    "# b는 \"파란 실선\"입니다\n",
    "plt.plot(epochs, val_loss, 'b', label='Validation loss')\n",
    "plt.title('Training and validation loss')\n",
    "plt.xlabel('Epochs')\n",
    "plt.ylabel('Loss')\n",
    "plt.legend()\n",
    "\n",
    "plt.show()"
   ]
  },
  {
   "cell_type": "code",
   "execution_count": 26,
   "id": "fantastic-greene",
   "metadata": {},
   "outputs": [
    {
     "data": {
      "image/png": "[encoded data removed]",
      "text/plain": [
       "<Figure size 432x288 with 1 Axes>"
      ]
     },
     "metadata": {
      "needs_background": "light"
     },
     "output_type": "display_data"
    }
   ],
   "source": [
    "plt.clf()   # 초기화\n",
    "\n",
    "plt.plot(epochs, acc, 'bo', label='Training acc')\n",
    "plt.plot(epochs, val_acc, 'b', label='Validation acc')\n",
    "plt.title('Training and validation accuracy')\n",
    "plt.xlabel('Epochs')\n",
    "plt.ylabel('Accuracy')\n",
    "plt.legend()\n",
    "\n",
    "plt.show()"
   ]
  },
  {
   "cell_type": "markdown",
   "id": "needed-intelligence",
   "metadata": {},
   "source": [
    "# 분석 추가\n",
    "* 8차 시도\n",
    " * LSTM(256) 1개, Bidirectional(LSTM(256)) 1개 사용\n",
    " * vocab_size=10000, word_vector_dim=200, epochs=20, EarlyStopping(X), Dropout(0)\n",
    " * batch_size=128\n",
    " * val_accuracy:0.87\n",
    " \n",
    "\n",
    "* 앞서 3개의 모델 중 Bidirectional LSTM을 사용.\n",
    "* 1~2% 성능 향상\n",
    "* Train과 Validation의 차이를 시각화로 볼 수 있는데 이 차이(간격)가 크다는 것은 Overfitting이 심하다는 것을 알 수 있음.\n",
    "* Validation_loss는 7epoch 이후부터 올라가는데 overfitting이 시작되는 시점임을 알 수 있음."
   ]
  }
 ],
 "metadata": {
  "kernelspec": {
   "display_name": "Python 3",
   "language": "python",
   "name": "python3"
  },
  "language_info": {
   "codemirror_mode": {
    "name": "ipython",
    "version": 3
   },
   "file_extension": ".py",
   "mimetype": "text/x-python",
   "name": "python",
   "nbconvert_exporter": "python",
   "pygments_lexer": "ipython3",
   "version": "3.7.9"
  }
 },
 "nbformat": 4,
 "nbformat_minor": 5
}
